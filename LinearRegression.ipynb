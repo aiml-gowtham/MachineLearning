{
  "nbformat": 4,
  "nbformat_minor": 0,
  "metadata": {
    "colab": {
      "provenance": [],
      "authorship_tag": "ABX9TyOtrDm2oa19JnzPKvQEy0rl",
      "include_colab_link": true
    },
    "kernelspec": {
      "name": "python3",
      "display_name": "Python 3"
    },
    "language_info": {
      "name": "python"
    }
  },
  "cells": [
    {
      "cell_type": "markdown",
      "metadata": {
        "id": "view-in-github",
        "colab_type": "text"
      },
      "source": [
        "<a href=\"https://colab.research.google.com/github/aiml-gowtham/MachineLearning/blob/Linear-Regression/LinearRegression.ipynb\" target=\"_parent\"><img src=\"https://colab.research.google.com/assets/colab-badge.svg\" alt=\"Open In Colab\"/></a>"
      ]
    },
    {
      "cell_type": "code",
      "execution_count": 1,
      "metadata": {
        "colab": {
          "base_uri": "https://localhost:8080/"
        },
        "id": "VBxd4O4WIIa3",
        "outputId": "09e32a50-74f5-4e3e-d553-0596e9cad97e"
      },
      "outputs": [
        {
          "output_type": "stream",
          "name": "stdout",
          "text": [
            "Cloning into 'Linear%20Regression'...\n",
            "fatal: repository 'https://github.com/aiml-gowtham/MachineLearning/tree/main/Linear%20Regression/' not found\n"
          ]
        }
      ],
      "source": [
        "!git clone"
      ]
    }
  ]
}